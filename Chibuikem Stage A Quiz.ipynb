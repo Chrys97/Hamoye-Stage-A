{
 "cells": [
  {
   "cell_type": "markdown",
   "metadata": {},
   "source": [
    "## NWAGW, CHIBUIKEM CHRYSOGONUS"
   ]
  },
  {
   "cell_type": "markdown",
   "metadata": {},
   "source": [
    "#### Question 1"
   ]
  },
  {
   "cell_type": "markdown",
   "metadata": {},
   "source": [
    "### Concatenating two lists"
   ]
  },
  {
   "cell_type": "code",
   "execution_count": 3,
   "metadata": {},
   "outputs": [
    {
     "name": "stdout",
     "output_type": "stream",
     "text": [
      "[1, 2, 3, 4, 5, 6, 13, 21, 34]\n"
     ]
    }
   ],
   "source": [
    "A = [1,2,3,4,5,6]\n",
    "B = [13,21,34]\n",
    "\n",
    "A_B = A + B\n",
    "print(A_B)"
   ]
  },
  {
   "cell_type": "markdown",
   "metadata": {},
   "source": [
    "### Question 2\n",
    "### Creating identity matrix"
   ]
  },
  {
   "cell_type": "code",
   "execution_count": 6,
   "metadata": {},
   "outputs": [
    {
     "name": "stdout",
     "output_type": "stream",
     "text": [
      "[[1. 0. 0.]\n",
      " [0. 1. 0.]\n",
      " [0. 0. 1.]]\n"
     ]
    }
   ],
   "source": [
    "import numpy as np\n",
    "id = np.identity(3)\n",
    "print(id)"
   ]
  },
  {
   "cell_type": "markdown",
   "metadata": {},
   "source": [
    "### Question 3\n",
    "### Lowest average cost of fuel per unit burned"
   ]
  },
  {
   "cell_type": "markdown",
   "metadata": {},
   "source": [
    "#### Grouping by fuel type and fuel per unit burned, getting the sum\n",
    "#### Getting the total number of fuel types  for the average\n",
    "#### Sorting values to get the lowest average"
   ]
  },
  {
   "cell_type": "code",
   "execution_count": 7,
   "metadata": {},
   "outputs": [
    {
     "name": "stdout",
     "output_type": "stream",
     "text": [
      "fuel_type_code_pudl\n",
      "gas          13.659397\n",
      "other        18.253856\n",
      "waste        19.518122\n",
      "coal         67.421830\n",
      "oil         168.877086\n",
      "nuclear    4955.157002\n",
      "Name: fuel_cost_per_unit_burned, dtype: float64\n"
     ]
    }
   ],
   "source": [
    "import pandas as pd\n",
    "import scipy.stats\n",
    "fuel_data = pd.read_csv('C:\\Users\\DELL\\Downloads\\Hamoye Fuel Data.csv', error_bad_lines = False)\n",
    "d1 = fuel_data.groupby('fuel_type_code_pudl')['fuel_cost_per_unit_burned'].sum()\n",
    "d2 = fuel_data.groupby('fuel_type_code_pudl')['fuel_cost_per_unit_burned'].count()\n",
    "d3 = (d1 / d2).sort_values()\n",
    "print(d3)"
   ]
  },
  {
   "cell_type": "markdown",
   "metadata": {},
   "source": [
    "### Question 4\n",
    "#### Standard deviation and 75th percentile"
   ]
  },
  {
   "cell_type": "code",
   "execution_count": 8,
   "metadata": {},
   "outputs": [
    {
     "name": "stdout",
     "output_type": "stream",
     "text": [
      "10.600220307806714\n"
     ]
    }
   ],
   "source": [
    "stdDeviation = fuel_data['fuel_mmbtu_per_unit'].std()\n",
    "print(stdDeviation)"
   ]
  },
  {
   "cell_type": "code",
   "execution_count": 10,
   "metadata": {},
   "outputs": [
    {
     "name": "stdout",
     "output_type": "stream",
     "text": [
      "17.006\n"
     ]
    }
   ],
   "source": [
    "percentile = fuel_data['fuel_mmbtu_per_unit'].quantile(q = 0.75, interpolation = 'linear')\n",
    "print(percentile)"
   ]
  },
  {
   "cell_type": "markdown",
   "metadata": {},
   "source": [
    "### Question 5\n",
    "#### Skewness and Kurtosis"
   ]
  },
  {
   "cell_type": "code",
   "execution_count": 11,
   "metadata": {},
   "outputs": [
    {
     "name": "stdout",
     "output_type": "stream",
     "text": [
      "The skewness is: 15.851495469109503\n",
      "The kurtosis is: 651.3694501337732\n"
     ]
    }
   ],
   "source": [
    "skw = fuel_data['fuel_qty_burned'].skew()\n",
    "kut = fuel_data['fuel_qty_burned'].kurt()\n",
    "\n",
    "print(\"The skewness is: \" + str(skw))\n",
    "print(\"The kurtosis is: \" + str(kut))"
   ]
  },
  {
   "cell_type": "markdown",
   "metadata": {},
   "source": [
    "### Question 6\n",
    "#### Missing value\n",
    "\n",
    "#### to check if there are missing values and if so, get the sum"
   ]
  },
  {
   "cell_type": "code",
   "execution_count": 23,
   "metadata": {},
   "outputs": [
    {
     "name": "stdout",
     "output_type": "stream",
     "text": [
      "180\n"
     ]
    }
   ],
   "source": [
    "mod = fuel_data['fuel_unit'].isnull().sum()\n",
    "print(mod)"
   ]
  },
  {
   "cell_type": "markdown",
   "metadata": {},
   "source": [
    "##### Therefore we have 180 missing values in the data and all from fuel unit\n",
    "#### To check the total number of rows"
   ]
  },
  {
   "cell_type": "code",
   "execution_count": 20,
   "metadata": {},
   "outputs": [
    {
     "name": "stdout",
     "output_type": "stream",
     "text": [
      "29343\n"
     ]
    }
   ],
   "source": [
    "totalValue = fuel_data['fuel_unit'].count()\n",
    "print(totalValue)"
   ]
  },
  {
   "cell_type": "markdown",
   "metadata": {},
   "source": [
    "#### Getting the percentage"
   ]
  },
  {
   "cell_type": "code",
   "execution_count": 35,
   "metadata": {},
   "outputs": [
    {
     "name": "stdout",
     "output_type": "stream",
     "text": [
      "the percentage is: 0\n"
     ]
    }
   ],
   "source": [
    "percentage = ((mod / totalValue) * 100)\n",
    "print(\"the percentage is: \" + str(percentage))"
   ]
  },
  {
   "cell_type": "code",
   "execution_count": 36,
   "metadata": {},
   "outputs": [
    {
     "name": "stdout",
     "output_type": "stream",
     "text": [
      "Feature: fuel unit, Total: 180, Percent: 0\n"
     ]
    }
   ],
   "source": [
    "print(\"Feature: fuel unit, Total: %s, Percent: %s\" %(mod, percentage))"
   ]
  },
  {
   "cell_type": "markdown",
   "metadata": {},
   "source": [
    "### Question 7\n",
    "#### There are two types of variables: Categorical variables which are not numeric in nature and Numeric - which deals with numbers\n",
    "#### The feature with missing value (fuel unit) is a categorical variable\n",
    "#### We input based on the highest variable in the column. This is the mode\n",
    "#### Hence, we have Categorical Variables and use Mode imputation"
   ]
  },
  {
   "cell_type": "markdown",
   "metadata": {},
   "source": [
    "### Question 8\n",
    "#### Correlation with Fuel Cost Per Unit Burned"
   ]
  },
  {
   "cell_type": "code",
   "execution_count": 25,
   "metadata": {},
   "outputs": [
    {
     "name": "stdout",
     "output_type": "stream",
     "text": [
      "utility_id_ferc1               -0.037863\n",
      "fuel_qty_burned                -0.018535\n",
      "fuel_mmbtu_per_unit            -0.010034\n",
      "fuel_cost_per_mmbtu            -0.000437\n",
      "fuel_cost_per_unit_delivered    0.011007\n",
      "report_year                     0.013599\n",
      "fuel_cost_per_unit_burned       1.000000\n",
      "Name: fuel_cost_per_unit_burned, dtype: float64\n"
     ]
    }
   ],
   "source": [
    "r_1 = fuel_data[fuel_data.columns[:]].corr()['fuel_cost_per_unit_burned'][:]\n",
    "r_2 = r_1.sort_values()\n",
    "print(r_2)"
   ]
  },
  {
   "cell_type": "markdown",
   "metadata": {},
   "source": [
    "### Question 9\n",
    "#### Percentage Change"
   ]
  },
  {
   "cell_type": "code",
   "execution_count": 33,
   "metadata": {},
   "outputs": [
    {
     "name": "stdout",
     "output_type": "stream",
     "text": [
      "-20.5676545183\n"
     ]
    }
   ],
   "source": [
    "yearly_cost = fuel_data.groupby(['report_year', 'fuel_type_code_pudl'])['fuel_cost_per_unit_burned'].sum()\n",
    "year_1994, year_1998 = yearly_cost.loc[[1994,1998], 'coal']\n",
    "percent_change = ((year_1998 - year_1994) / year_1994) * 100\n",
    "print(str(percent_change))"
   ]
  },
  {
   "cell_type": "markdown",
   "metadata": {},
   "source": [
    "### Question 10"
   ]
  },
  {
   "cell_type": "code",
   "execution_count": 28,
   "metadata": {},
   "outputs": [
    {
     "name": "stdout",
     "output_type": "stream",
     "text": [
      "report_year\n",
      "1999       25.551627\n",
      "1995       32.735269\n",
      "2006       38.657484\n",
      "2005       41.438184\n",
      "2007       43.325023\n",
      "2017       46.196861\n",
      "2002       47.594361\n",
      "2003       55.663493\n",
      "2008       58.588197\n",
      "2011       59.774667\n",
      "2001       60.050396\n",
      "2012       60.994502\n",
      "1994       63.636060\n",
      "2010       91.862105\n",
      "2016      103.901761\n",
      "2004      139.524275\n",
      "2013      172.307591\n",
      "2014      192.737183\n",
      "1998      287.154420\n",
      "2015      326.535511\n",
      "2018      499.269966\n",
      "2009      652.694163\n",
      "2000      985.362877\n",
      "1996     9196.705948\n",
      "1997    11140.197239\n",
      "Name: fuel_cost_per_unit_delivered, dtype: float64\n"
     ]
    }
   ],
   "source": [
    "c1 = fuel_data.groupby('report_year')['fuel_cost_per_unit_delivered'].sum()\n",
    "c2 = fuel_data.groupby('report_year')['fuel_cost_per_unit_delivered'].count()\n",
    "c3 = (c1 / c2).sort_values()\n",
    "print(c3)"
   ]
  }
 ],
 "metadata": {
  "kernelspec": {
   "display_name": "Python 2",
   "language": "python",
   "name": "python2"
  },
  "language_info": {
   "codemirror_mode": {
    "name": "ipython",
    "version": 2
   },
   "file_extension": ".py",
   "mimetype": "text/x-python",
   "name": "python",
   "nbconvert_exporter": "python",
   "pygments_lexer": "ipython2",
   "version": "2.7.12"
  }
 },
 "nbformat": 4,
 "nbformat_minor": 2
}
